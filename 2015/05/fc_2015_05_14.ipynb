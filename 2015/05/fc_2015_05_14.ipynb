{
 "metadata": {
  "name": "",
  "signature": "sha256:2ee84087cfed43f473a03a708592940d48f8e9e6028fc74c0f458582712a1e8d"
 },
 "nbformat": 3,
 "nbformat_minor": 0,
 "worksheets": [
  {
   "cells": [
    {
     "cell_type": "code",
     "collapsed": false,
     "input": [
      "import pandas\n",
      "import matplotlib.pyplot as plt\n",
      "import matplotlib\n",
      "matplotlib.style.use('ggplot')"
     ],
     "language": "python",
     "metadata": {},
     "outputs": [],
     "prompt_number": 1
    },
    {
     "cell_type": "raw",
     "metadata": {},
     "source": [
      "canadian_participation = pandas.read_csv('Bfox.csv', index_col=0)\n",
      "canadian_participation.plot(y='debt')\n"
     ]
    },
    {
     "cell_type": "code",
     "collapsed": false,
     "input": [],
     "language": "python",
     "metadata": {},
     "outputs": []
    }
   ],
   "metadata": {}
  }
 ]
}